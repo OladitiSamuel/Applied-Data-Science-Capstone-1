{
    "cells": [
        {
            "metadata": {
                "collapsed": true
            },
            "cell_type": "markdown",
            "source": "# APPLIED DATA SCIENCE CAPSTONE"
        },
        {
            "metadata": {},
            "cell_type": "markdown",
            "source": "This capstone project gives you a full taste of who a data scientists is and a practical hand-on experience working on real life data.\nIt uses the location data and different location data providers, such as Foursquare, Google place and Yelp. This project demonstrates \nabout how to make RESTful API calls to the Foursquare API to retrieve data about venues in different neighborhoods around the world.\nDuring the project, I have learnt to be creative in when data are not readily available by surfing, mining the web and parsing HTML \ncodes. I had used Python and pandas library to manipulate data, which helped in refining my skills for exploring and analyzing data. \nFinally, my experience with the Folium library to get maps of geospatial data and to communicate with my results and findings gave \nme the sweetest flavour. This course completely changed me and I could say I achieved my goal, it wasn't waste of time. \n"
        },
        {
            "metadata": {},
            "cell_type": "code",
            "source": "import pandas as pd\nimport numpy as np",
            "execution_count": 3,
            "outputs": []
        },
        {
            "metadata": {},
            "cell_type": "code",
            "source": "print('Hello Capstone Project Course!')",
            "execution_count": 4,
            "outputs": [
                {
                    "output_type": "stream",
                    "text": "Hello Capstone Project Course!\n",
                    "name": "stdout"
                }
            ]
        }
    ],
    "metadata": {
        "kernelspec": {
            "name": "python3",
            "display_name": "Python 3.6",
            "language": "python"
        },
        "language_info": {
            "name": "python",
            "version": "3.6.9",
            "mimetype": "text/x-python",
            "codemirror_mode": {
                "name": "ipython",
                "version": 3
            },
            "pygments_lexer": "ipython3",
            "nbconvert_exporter": "python",
            "file_extension": ".py"
        }
    },
    "nbformat": 4,
    "nbformat_minor": 1
}