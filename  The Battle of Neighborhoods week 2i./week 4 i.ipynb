{
    "cells": [
        {
            "metadata": {},
            "cell_type": "markdown",
            "source": "#  The Battle of Neighborhoods week 2"
        },
        {
            "metadata": {
                "collapsed": true
            },
            "cell_type": "markdown",
            "source": "## 1. Introduction"
        },
        {
            "metadata": {},
            "cell_type": "markdown",
            "source": "An average man change his location about twelve times in his lifetime. This brings us to some questions which are itemized below:\n-    Why do people move from place to place until they finally find a place.\n-   Do they move to settle down where they truly feel happy,\n-  Does what we needs change over time, prompting us to eventually leave a town we once called home for a new area that will bring us satisfaction? \n-  Do we often move to a new area without knowing the exact enviroment we moved into, which might result into forcing us to run at any sign of discomfort?\n-    Does social life affects people of all age group?"
        },
        {
            "metadata": {},
            "cell_type": "markdown",
            "source": "To reduce these frequent change of location, a proper research should be done before deciding our next move in life. Considering the following factors when picking a new place to live, you won\u2019t end up wasting your valuable time and money making moves you\u2019ll end up regretting or get tired of easily. One of the first thing to consider is \"Safety\" which is important before moving to a new area. If you don\u2019t feel safe in your own home, you\u2019re not going to be able to enjoy living there.Does the area have a high crime rate?\nSometimes, an area may seem perfect - low taxes, moderate climate, affordable housing. However, it's important to check the prevalence of violent crimes in the area before making your final decision. Exposure to a high crime rate leaves your home and your family susceptible to theft, assault and personal harm.\nCrime and property value are entwined, so find out if that's why houses are cheap. You shouldn't sacrifice safety to save money.\n\nDoes the area have a high cost of living?\nThe cost of goods and services varies from city to city and tends to be highest in the most densely-populated cities. The essential expenses to consider when relocating are: Groceries, Healthcare, Gas, Utilities, Entertainment, etc.\nCost of living is the amount of money spent to maintain the average standard of day-to-day life.\n\nHow will the climate affect energy costs?\nYou may think that leaving a high-cost city such as San Diego in favor of the more affordable Dallas is a no-brainer, but the price of homes or rent is not the only factor to consider. The moderate climate of San Diego will keep your energy costs low. Your air-conditioning bills will hit the roof when attempting to keep your home comfortable in humid Texas weather. If the climate is extreme, your cooling (or heating) costs will increase dramatically.\n"
        },
        {
            "metadata": {},
            "cell_type": "markdown",
            "source": "### 1.2 Problem"
        },
        {
            "metadata": {},
            "cell_type": "markdown",
            "source": "The statistical dataset from BeautifulSoup found on IBM-COURSERA Professional Data Science Capstone course which is a web scraping package, has information of each neighborhoods in Toronto and a wikipedia page which has a list of postal codes. \nThis project aims to select the safest borough based on the total crimes, exploring the neighborhoods of that borough to find the 10 most common venues in each\nneighborhood and finally cluster the neighborhoods using k-mean clustering."
        },
        {
            "metadata": {},
            "cell_type": "markdown",
            "source": "### 1.3 Interest"
        },
        {
            "metadata": {},
            "cell_type": "markdown",
            "source": "Anyone considering to relocate to Toronto will be interested to identify the best borough to live, exploring its neighborhoods and common venues around each neighborhood.\nThis project will be using the Foursquare API to explore neighborhoods in some selected cities of Toronto. The Foursquare explore function will be used to get the most common venue categories in each neighborhood, and then use this feature to group the neighborhoods into clusters. The k-means clustering algorithm will also be used for the analysis. Finally, using the Folium library to visualize the neighborhoods in Toronto and their emerging clusters.\nThe target audience for this project is twofold. Firstly, any planning to visit Toronto, Canada can use the plots and maps from this project to quickly select places that suit their budget and rating preferences. Secondly, a company can use this information to create a website or a mobile application, which is updated on a regular basis, to allow individuals to the \ncity or even expand same functionality to other places."
        },
        {
            "metadata": {},
            "cell_type": "markdown",
            "source": "## 2. Data Acquisition and Cleaning"
        },
        {
            "metadata": {},
            "cell_type": "markdown",
            "source": "### 2.1 Data Acquisition"
        },
        {
            "metadata": {},
            "cell_type": "markdown",
            "source": "The data acquired for this project is a combination of data from two sources. The first data source of the project uses a BeautifulSoup Package that shows the Borough in Toronto.\n"
        },
        {
            "metadata": {},
            "cell_type": "markdown",
            "source": "The dataset contains the following columns:\n   - Postcode\n   - Borough: common names for Boroughs in Toronto\n   - Neighbourhood\n"
        },
        {
            "metadata": {},
            "cell_type": "markdown",
            "source": "The second source of data is scraped from a wikipedia page that contains the list of Canada postal codes. This page contains additional information about the boroughs."
        },
        {
            "metadata": {},
            "cell_type": "markdown",
            "source": "And lastly, the Foursquare API gave the project the ability to locate each borough and provide an overview of the common venues with a view on the world map."
        },
        {
            "metadata": {},
            "cell_type": "markdown",
            "source": "Using the Foursquare\u2019s explore API (which gives venues recommendations), I fetched venues from the centre of Toronto and collected their names, categories and locations (latitude and longitude). "
        },
        {
            "metadata": {},
            "cell_type": "markdown",
            "source": "### 2.2 Data Cleaning"
        },
        {
            "metadata": {},
            "cell_type": "markdown",
            "source": "Drop any 'None' row in the DataFrame.\n\nDrop any row which contains a 'Not assigned' value.\n\nAnd all \"Not assigned\" will be replace to 'NaN' using numpy for convenience."
        },
        {
            "metadata": {},
            "cell_type": "code",
            "source": "# @hidden_cell\n# The following code contains the credentials for a file in your IBM Cloud Object Storage.\n# You might want to remove those credentials before you share your notebook.\ncredentials_1 = {\n    'IAM_SERVICE_ID': 'iam-ServiceId-b63b5962-b02a-442e-8754-3f2298e72150',\n    'IBM_API_KEY_ID': 'W1qM_YdjvQNrC4HiLYmC1TV9E2iTzp1bSCzCDCxPx8hr',\n    'ENDPOINT': 'https://s3.eu-geo.objectstorage.service.networklayer.com',\n    'IBM_AUTH_ENDPOINT': 'https://iam.eu-gb.bluemix.net/oidc/token',\n    'BUCKET': 'applieddatasciencecapstone-donotdelete-pr-xkr6rsemnx2qfj',\n    'FILE': 'shot1.JPG'\n}\n",
            "execution_count": 2,
            "outputs": []
        },
        {
            "metadata": {},
            "cell_type": "markdown",
            "source": " I checked that the latitude and longitude values of each corresponding venue match. After the careful analysis."
        },
        {
            "metadata": {},
            "cell_type": "markdown",
            "source": "They can be categorised as follows:\n1. There are venues that have specific restaurants/cafes inside them as provided by Foursquare API\n2. Two locations are so close that they have practically same latitude and longitude values \n3. Some venues have been replaced with new venues.\nVenues belonging to category 1 and 3 are perfect to keep. However, the venues that belong to category 2 should be dropped. After careful inspection and removal, the final dataset had a total of 49 venues with which we can work. As a final dataset, we\u2019re left with 65 venues."
        },
        {
            "metadata": {},
            "cell_type": "code",
            "source": "\n# @hidden_cell\n# The following code contains the credentials for a file in your IBM Cloud Object Storage.\n# You might want to remove those credentials before you share your notebook.\ncredentials_2 = {\n    'IAM_SERVICE_ID': 'iam-ServiceId-b63b5962-b02a-442e-8754-3f2298e72150',\n    'IBM_API_KEY_ID': 'W1qM_YdjvQNrC4HiLYmC1TV9E2iTzp1bSCzCDCxPx8hr',\n    'ENDPOINT': 'https://s3.eu-geo.objectstorage.service.networklayer.com',\n    'IBM_AUTH_ENDPOINT': 'https://iam.eu-gb.bluemix.net/oidc/token',\n    'BUCKET': 'applieddatasciencecapstone-donotdelete-pr-xkr6rsemnx2qfj',\n    'FILE': 'shot2.JPG'\n}\n",
            "execution_count": 3,
            "outputs": []
        },
        {
            "metadata": {},
            "cell_type": "markdown",
            "source": "Using data cleaning, the dataset from the API will be used based on their venue names, latitude, and longitude values. One to one matching and careful data inspection would be used to remove any remaining outliers such as multiple venues at the same location from the two datasets. The final data will include the venue name, category, address, latitude, longitude, rating, based on ."
        }
    ],
    "metadata": {
        "kernelspec": {
            "name": "python3",
            "display_name": "Python 3.6",
            "language": "python"
        },
        "language_info": {
            "name": "python",
            "version": "3.6.9",
            "mimetype": "text/x-python",
            "codemirror_mode": {
                "name": "ipython",
                "version": 3
            },
            "pygments_lexer": "ipython3",
            "nbconvert_exporter": "python",
            "file_extension": ".py"
        }
    },
    "nbformat": 4,
    "nbformat_minor": 1
}