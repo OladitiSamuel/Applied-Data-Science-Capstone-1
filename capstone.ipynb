## APPLIED DATA SCIENCE CAPSTONE

  This capstone project gives you a full taste of who a data scientists is and a practical hand-on experience working
  on real life data. It uses the location data and different location data providers, such as Foursquare, Google place 
  and Yelp. This project demonstrates about how to make RESTful API calls to the Foursquare API to retrieve data about
  venues in different neighborhoods around the world. During the project, I have learnt to be creative in when data are
  not readily available by surfing, mining the web and parsing HTML codes. I had used Python and pandas library to
  manipulate data, which helped in refining my skills for exploring and analyzing data. Finally, my experience with the 
  Folium library to get maps of geospatial data and to communicate with my results and findings gave me the sweetest
  flavour. This course completely changed me and I could say I achieved my goal, it wasn't waste of time. 


import pandas as pd 
import numpy as np 

print('Hello Applied Capstone Project Course!')
