{
    "cells": [
        {
            "metadata": {},
            "cell_type": "code",
            "source": "APPLIED DATASCIENCE ",
            "execution_count": null,
            "outputs": []
        },
        {
            "metadata": {},
            "cell_type": "markdown",
            "source": "## 1. Introduction"
        },
        {
            "metadata": {},
            "cell_type": "markdown",
            "source": "An average man change his location about twelve times in his lifetime. This brings us to some questions which are itemized below:\n-    Why do people move from place to place until they finally find a place.\n-   Do they move to settle down where they truly feel happy,\n-  Does what we needs change over time, prompting us to eventually leave a town we once called home for a new area that will bring us satisfaction? \n-  Do we often move to a new area without knowing the exact enviroment we moved into, which might result into forcing us to run at any sign of discomfort?\n-    Does social life affects people of all age group?"
        },
        {
            "metadata": {},
            "cell_type": "markdown",
            "source": "To reduce these frequent change of location, a proper research should be done before deciding our next move in life. Considering the following factors when picking a new place to live, you won\u2019t end up wasting your valuable time and money making moves you\u2019ll end up regretting or get tired of easily. One of the first thing to consider is \"Safety\" which is important before moving to a new area. If you don\u2019t feel safe in your own home, you\u2019re not going to be able to enjoy living there.Does the area have a high crime rate?\nSometimes, an area may seem perfect - low taxes, moderate climate, affordable housing. However, it's important to check the prevalence of violent crimes in the area before making your final decision. Exposure to a high crime rate leaves your home and your family susceptible to theft, assault and personal harm.\nCrime and property value are entwined, so find out if that's why houses are cheap. You shouldn't sacrifice safety to save money.\n\nDoes the area have a high cost of living?\nThe cost of goods and services varies from city to city and tends to be highest in the most densely-populated cities. The essential expenses to consider when relocating are: Groceries, Healthcare, Gas, Utilities, Entertainment, etc.\nCost of living is the amount of money spent to maintain the average standard of day-to-day life.\n\nHow will the climate affect energy costs?\nYou may think that leaving a high-cost city such as San Diego in favor of the more affordable Dallas is a no-brainer, but the price of homes or rent is not the only factor to consider. The moderate climate of San Diego will keep your energy costs low. Your air-conditioning bills will hit the roof when attempting to keep your home comfortable in humid Texas weather. If the climate is extreme, your cooling (or heating) costs will increase dramatically.\n"
        },
        {
            "metadata": {},
            "cell_type": "markdown",
            "source": "### 1.2 Problem"
        },
        {
            "metadata": {},
            "cell_type": "markdown",
            "source": "The statistical dataset from BeautifulSoup found on IBM-COURSERA Professional Data Science Capstone course which is a web scraping package, has information of each neighborhoods in Toronto and a wikipedia page which has a list of postal codes. \nThis project aims to select the safest borough based on the total crimes, exploring the neighborhoods of that borough to find the 10 most common venues in each\nneighborhood and finally cluster the neighborhoods using k-mean clustering."
        },
        {
            "metadata": {},
            "cell_type": "markdown",
            "source": "### 1.3 Interest"
        },
        {
            "metadata": {
                "collapsed": true
            },
            "cell_type": "markdown",
            "source": "Anyone considering to relocate to Toronto will be interested to identify the best borough to live, exploring its neighborhoods and common venues around each neighborhood.\nThis project will be using the Foursquare API to explore neighborhoods in some selected cities of Toronto. The Foursquare explore function will be used to get the most common venue categories in each neighborhood, and then use this feature to group the neighborhoods into clusters. The k-means clustering algorithm will also be used for the analysis. Finally, using the Folium library to visualize the neighborhoods in Toronto and their emerging clusters."
        },
        {
            "metadata": {},
            "cell_type": "code",
            "source": "",
            "execution_count": null,
            "outputs": []
        }
    ],
    "metadata": {
        "kernelspec": {
            "name": "python3",
            "display_name": "Python 3.6",
            "language": "python"
        },
        "language_info": {
            "name": "python",
            "version": "3.6.9",
            "mimetype": "text/x-python",
            "codemirror_mode": {
                "name": "ipython",
                "version": 3
            },
            "pygments_lexer": "ipython3",
            "nbconvert_exporter": "python",
            "file_extension": ".py"
        }
    },
    "nbformat": 4,
    "nbformat_minor": 1
}